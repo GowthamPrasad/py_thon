{
 "cells": [
  {
   "cell_type": "markdown",
   "metadata": {},
   "source": [
    "# Comprehensions in Python"
   ]
  },
  {
   "cell_type": "markdown",
   "metadata": {},
   "source": [
    "Comprehensions in Python provide us with a short and concise way to construct new sequence data types like list, dictionary, set. It is easy to use and understand."
   ]
  },
  {
   "cell_type": "markdown",
   "metadata": {},
   "source": [
    "In Python there are four type of comprehension."
   ]
  },
  {
   "cell_type": "markdown",
   "metadata": {},
   "source": [
    "- List Comprehension\n",
    "- Dictionary Comprehension\n",
    "- Set Comprehension\n",
    "- Generator Comprehension"
   ]
  },
  {
   "cell_type": "markdown",
   "metadata": {},
   "source": [
    "# Generator Comprehension"
   ]
  },
  {
   "cell_type": "markdown",
   "metadata": {},
   "source": [
    "#### Generators don’t allocate memory for the whole list. Instead, they generate each value one by one which is why they are memory efficient."
   ]
  },
  {
   "cell_type": "code",
   "execution_count": 5,
   "metadata": {},
   "outputs": [
    {
     "name": "stdout",
     "output_type": "stream",
     "text": [
      "0 1 2 3 4 5 \n",
      " <generator object <genexpr> at 0x00000294530E4748>\n",
      "0 1 2 3 4 5 "
     ]
    }
   ],
   "source": [
    "#Without using Generator Comprehension\n",
    "for i in range(6):\n",
    "    print(i, end = ' ') \n",
    "\n",
    "#Using Generator Comprehension...round brackets in generator comprehension\n",
    "gen_var = (i for i in range(6))\n",
    "print(\"\\n\",gen_var)\n",
    "\n",
    "for var in gen_var:\n",
    "    print(var, end = ' ')"
   ]
  },
  {
   "cell_type": "markdown",
   "metadata": {},
   "source": [
    "#### Syntax for Generator Comprehension"
   ]
  },
  {
   "cell_type": "markdown",
   "metadata": {},
   "source": [
    "> *generator_variable = (expression for var in input_list if (var satisfies this condition))*"
   ]
  },
  {
   "cell_type": "markdown",
   "metadata": {},
   "source": [
    "Note that a generator comprehension can have many for loops and may or may not contain if condition based on the program."
   ]
  },
  {
   "cell_type": "code",
   "execution_count": 10,
   "metadata": {},
   "outputs": [
    {
     "name": "stdout",
     "output_type": "stream",
     "text": [
      "<generator object <genexpr> at 0x00000294530E4848>\n",
      "20 30 24 "
     ]
    }
   ],
   "source": [
    "#Now another example\n",
    "#Without using Generator Comprehension\n",
    "age = [20,18,15,30,24]\n",
    "a = (i for i in age if (i > 18))\n",
    "print(a)\n",
    "for var in a:\n",
    "    print(var, end = ' ')"
   ]
  }
 ],
 "metadata": {
  "kernelspec": {
   "display_name": "Python 3",
   "language": "python",
   "name": "python3"
  },
  "language_info": {
   "codemirror_mode": {
    "name": "ipython",
    "version": 3
   },
   "file_extension": ".py",
   "mimetype": "text/x-python",
   "name": "python",
   "nbconvert_exporter": "python",
   "pygments_lexer": "ipython3",
   "version": "3.7.6"
  }
 },
 "nbformat": 4,
 "nbformat_minor": 4
}
