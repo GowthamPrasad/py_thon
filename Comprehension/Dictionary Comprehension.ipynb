{
 "cells": [
  {
   "cell_type": "markdown",
   "metadata": {},
   "source": [
    "# Comprehensions in Python"
   ]
  },
  {
   "cell_type": "markdown",
   "metadata": {},
   "source": [
    "Comprehensions in Python provide us with a short and concise way to construct new sequence data types like list, dictionary, set. It is easy to use and understand."
   ]
  },
  {
   "cell_type": "markdown",
   "metadata": {},
   "source": [
    "In Python there are four type of comprehension.\n",
    "- List Comprehension\n",
    "- Dictionary Comprehension\n",
    "- Set Comprehension\n",
    "- Generator Comprehension"
   ]
  },
  {
   "cell_type": "markdown",
   "metadata": {},
   "source": [
    "# Dictionary Comprehension"
   ]
  },
  {
   "cell_type": "markdown",
   "metadata": {},
   "source": [
    "#### Dictionary is a collection of elements which are unordered, mutable and indexed. It has keys and each keys is assigned a value."
   ]
  },
  {
   "cell_type": "markdown",
   "metadata": {},
   "source": [
    "Let's create a dictionary without Dictionary Comprehension."
   ]
  },
  {
   "cell_type": "code",
   "execution_count": 12,
   "metadata": {},
   "outputs": [
    {
     "name": "stdout",
     "output_type": "stream",
     "text": [
      "{1: 10, 2: 20, 3: 30}\n"
     ]
    }
   ],
   "source": [
    "a = {1:10,2:20,3:30}\n",
    "for i in a:\n",
    "    b[i]=a[i]\n",
    "print(b)"
   ]
  },
  {
   "cell_type": "markdown",
   "metadata": {},
   "source": [
    "Now using dictionary comprehension we'll create a dictionary."
   ]
  },
  {
   "cell_type": "code",
   "execution_count": 13,
   "metadata": {},
   "outputs": [
    {
     "data": {
      "text/plain": [
       "{1: 10, 2: 20, 3: 30}"
      ]
     },
     "execution_count": 13,
     "metadata": {},
     "output_type": "execute_result"
    }
   ],
   "source": [
    "a = {1:10,2:20,3:30}\n",
    "b = {i:a[i] for i in a}\n",
    "b"
   ]
  },
  {
   "cell_type": "markdown",
   "metadata": {},
   "source": [
    "#### Syntax for Dictionary Comprehension"
   ]
  },
  {
   "cell_type": "markdown",
   "metadata": {},
   "source": [
    "> *dict_variable = {key:value for (key, value) in iterable if (key, value satisfy this condition)}*"
   ]
  },
  {
   "cell_type": "markdown",
   "metadata": {},
   "source": [
    "Like lists, dictionary comprehension can have many for loops and may or may not contain if condition based on the program."
   ]
  },
  {
   "cell_type": "code",
   "execution_count": 5,
   "metadata": {},
   "outputs": [
    {
     "name": "stdout",
     "output_type": "stream",
     "text": [
      "{'John': 20, 'Paul': 21, 'Jones': 22, 'Sampson': 35, 'James': 34}\n"
     ]
    },
    {
     "data": {
      "text/plain": [
       "{'John': 20, 'Paul': 21, 'Jones': 22, 'Sampson': 35, 'James': 34}"
      ]
     },
     "execution_count": 5,
     "metadata": {},
     "output_type": "execute_result"
    }
   ],
   "source": [
    "#Consider this example\n",
    "#We have two lists, one contains name and other age\n",
    "#We have to construct a dictionary connecting names to their corresponding age\n",
    "\n",
    "name = [\"John\",\"Paul\",\"Jones\",\"Sampson\",\"James\"]\n",
    "age = [20,21,22,35,34]\n",
    "b = {}\n",
    "\n",
    "#Without dictionary comprehension\n",
    "for (key,value) in zip(name,age):\n",
    "    b[key] = value\n",
    "print(b)\n",
    "\n",
    "#Using dictionary comprehension\n",
    "b = {key:value for (key,value) in zip(name,age)}\n",
    "b"
   ]
  },
  {
   "cell_type": "code",
   "execution_count": 12,
   "metadata": {},
   "outputs": [
    {
     "name": "stdout",
     "output_type": "stream",
     "text": [
      "{'Sampson': 35, 'James': 34}\n"
     ]
    },
    {
     "data": {
      "text/plain": [
       "{'Sampson': 35, 'James': 34}"
      ]
     },
     "execution_count": 12,
     "metadata": {},
     "output_type": "execute_result"
    }
   ],
   "source": [
    "#Now another example\n",
    "name = [\"John\",\"Paul\",\"Jones\",\"Sampson\",\"James\"]\n",
    "age = [20,21,22,35,34]\n",
    "b = {}\n",
    "\n",
    "#Without dictionary comprehension\n",
    "for (key,value) in zip(name,age):\n",
    "    if (value > 30):\n",
    "        b[key] = value\n",
    "print(b)\n",
    "\n",
    "#Using dictionary comprehension\n",
    "b = {key:value for (key,value) in zip(name,age) if (value > 30)}\n",
    "b"
   ]
  }
 ],
 "metadata": {
  "kernelspec": {
   "display_name": "Python 3",
   "language": "python",
   "name": "python3"
  },
  "language_info": {
   "codemirror_mode": {
    "name": "ipython",
    "version": 3
   },
   "file_extension": ".py",
   "mimetype": "text/x-python",
   "name": "python",
   "nbconvert_exporter": "python",
   "pygments_lexer": "ipython3",
   "version": "3.7.6"
  }
 },
 "nbformat": 4,
 "nbformat_minor": 4
}
